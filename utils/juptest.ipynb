{
 "cells": [
  {
   "cell_type": "code",
   "execution_count": 2,
   "metadata": {},
   "outputs": [],
   "source": [
    "import pandas as pd\n",
    "import numpy as np\n",
    "import os\n",
    "from load import load_file\n",
    "import matplotlib.pyplot as plt\n",
    "from sklearn.impute import KNNImputer\n",
    "import datetime\n",
    "from sklearn.model_selection import train_test_split, RandomizedSearchCV\n",
    "from sklearn.metrics import mean_absolute_error, r2_score\n",
    "from sklearn.preprocessing import StandardScaler, LabelEncoder\n",
    "from xgboost import XGBRegressor\n",
    "import joblib\n"
   ]
  },
  {
   "cell_type": "code",
   "execution_count": 4,
   "metadata": {},
   "outputs": [],
   "source": [
    "df = load_file(\"../data/final_dataset.json\")\n",
    "if df is False:\n",
    "    print(\"Failed to load file.\")"
   ]
  },
  {
   "cell_type": "code",
   "execution_count": 5,
   "metadata": {},
   "outputs": [
    {
     "name": "stdout",
     "output_type": "stream",
     "text": [
      "remove_rente\n",
      "104948\n"
     ]
    }
   ],
   "source": [
    "def remove_rent(df, sale_type='residential_sale'):\n",
    "    return df[df['TypeOfSale'] == sale_type]\n",
    "\n",
    "print(\"remove_rent\")\n",
    "df = remove_rent(df)\n",
    "print(df.shape[0])"
   ]
  },
  {
   "cell_type": "code",
   "execution_count": 6,
   "metadata": {},
   "outputs": [
    {
     "name": "stdout",
     "output_type": "stream",
     "text": [
      "strip_data\n",
      "104948\n"
     ]
    }
   ],
   "source": [
    "def strip_data(df):\n",
    "    for col in df.select_dtypes(include=['object']).columns:\n",
    "        df[col] = df[col].map(lambda x: x.strip() if isinstance(x, str) else x)\n",
    "    return df\n",
    "\n",
    "print(\"strip_data\")\n",
    "df = strip_data(df)\n",
    "print(df.shape[0])"
   ]
  },
  {
   "cell_type": "code",
   "execution_count": null,
   "metadata": {},
   "outputs": [
    {
     "name": "stdout",
     "output_type": "stream",
     "text": [
      "no_duplicates\n",
      "98189\n"
     ]
    }
   ],
   "source": [
    "def no_duplicates(df): \n",
    "    df_unique = df.drop(columns=['Url', 'PropertyId', 'SubtypeOfProperty']).drop_duplicates()\n",
    "    return df.loc[df_unique.index]\n",
    "\n",
    "print(\"no_duplicates\")\n",
    "df = no_duplicates(df)\n",
    "print(df.shape[0])"
   ]
  },
  {
   "cell_type": "code",
   "execution_count": 7,
   "metadata": {},
   "outputs": [
    {
     "name": "stdout",
     "output_type": "stream",
     "text": [
      "select_features\n",
      "Rows after initial selection: 100211\n",
      "===============\n",
      "Q1 (15th percentile): 233600.0 Q3 (85th percentile): 515000.0 IQR: 281400.0\n",
      "Lower bound: 0 Upper bound: 1922000.0\n",
      "Price: Removed 1393 outliers\n",
      "Q1 (15th percentile): 2.0 Q3 (85th percentile): 4.0 IQR: 2.0\n",
      "Lower bound: 0 Upper bound: 10.0\n",
      "BedroomCount: Removed 252 outliers\n",
      "Q1 (15th percentile): 1.0 Q3 (85th percentile): 2.0 IQR: 1.0\n",
      "Lower bound: 0 Upper bound: 5.0\n",
      "BathroomCount: Removed 270 outliers\n",
      "Q1 (15th percentile): 2.0 Q3 (85th percentile): 4.0 IQR: 2.0\n",
      "Lower bound: 0 Upper bound: 8.0\n",
      "NumberOfFacades: Removed 9 outliers\n",
      "Q1 (15th percentile): 127.0 Q3 (85th percentile): 955.0 IQR: 828.0\n",
      "Lower bound: 0 Upper bound: 4267.0\n",
      "SurfaceOfPlot: Removed 1522 outliers\n",
      "Q1 (15th percentile): 85.0 Q3 (85th percentile): 195.0 IQR: 110.0\n",
      "Lower bound: 0 Upper bound: 635.0\n",
      "LivingArea: Removed 390 outliers\n",
      "Q1 (15th percentile): 36.0 Q3 (85th percentile): 500.0 IQR: 464.0\n",
      "Lower bound: 0 Upper bound: 2356.0\n",
      "GardenArea: Removed 357 outliers\n",
      "Q1 (15th percentile): 1.0 Q3 (85th percentile): 2.0 IQR: 1.0\n",
      "Lower bound: 0 Upper bound: 4.0\n",
      "ToiletCount: Removed 565 outliers\n",
      "===============\n",
      "95453\n"
     ]
    }
   ],
   "source": [
    "def remove_outliers(df, column, multiplier=2):\n",
    "    Q1 = df[column].quantile(0.20)\n",
    "    Q3 = df[column].quantile(0.80)\n",
    "    IQR = Q3 - Q1\n",
    "    \n",
    "    print(f\"Q1 (15th percentile): {Q1} Q3 (85th percentile): {Q3} IQR: {IQR}\")\n",
    "    \n",
    "    before_count = df.shape[0]\n",
    "    \n",
    "    if IQR == 0:\n",
    "        lower_bound = Q1\n",
    "        upper_bound = Q3 \n",
    "    else:\n",
    "        lower_bound = max(Q1 - multiplier * IQR, 0)\n",
    "        upper_bound = Q3 + multiplier * IQR\n",
    "\n",
    "    df = df[~((df[column] < lower_bound) | (df[column] > upper_bound))]\n",
    "\n",
    "    print(f\"Lower bound: {lower_bound} Upper bound: {upper_bound}\")\n",
    "\n",
    "    after_count = df.shape[0]\n",
    "    print(f\"{column}: Removed {before_count - after_count} outliers\")\n",
    "    return df\n",
    "\n",
    "def select_features(df):\n",
    "    df = df[\n",
    "        ((df[\"PEB\"].isin([\"A++\", \"A+\", \"A\", \"B\", \"C\", \"D\", \"E\", \"F\"])) | (df['PEB'].isna())) &\n",
    "        (((df['PostalCode'] >= 1000) & (df['PostalCode'] <= 9999)) | (df['PostalCode'].isna())) &\n",
    "        ((df['ConstructionYear'] <= datetime.datetime.now().year + 20) | (df['ConstructionYear'].isna()))\n",
    "    ][[\n",
    "        \"Price\", \"PostalCode\", \"BathroomCount\", \"BedroomCount\", \"ConstructionYear\", \"NumberOfFacades\", \"PEB\", \n",
    "        \"SurfaceOfPlot\", \"LivingArea\", \"GardenArea\", \"StateOfBuilding\", \"SwimmingPool\", \"Terrace\", \"ToiletCount\", \"RoomCount\"\n",
    "    ]]\n",
    "\n",
    "    df['LivingArea_per_Bedroom'] = df['LivingArea'] / (df['BedroomCount'] + 1)\n",
    "    df['GardenArea_per_Bedroom'] = df['GardenArea'] / (df['BedroomCount'] + 1)\n",
    "    df['PropertyAge'] = datetime.datetime.now().year - df['ConstructionYear']\n",
    "    df['LivingArea_to_TotalArea'] = df['LivingArea'] / (df['SurfaceOfPlot'] + 1)\n",
    "    df['Bedroom_to_Facades'] = df['BedroomCount'] / (df['NumberOfFacades'] + 1)\n",
    "\n",
    "    print(f\"Rows after initial selection: {df.shape[0]}\")\n",
    "\n",
    "    multi_dico = {\n",
    "        \"Price\": 5,\n",
    "        \"BedroomCount\": 3,\n",
    "        \"BathroomCount\": 3,\n",
    "        \"NumberOfFacades\": 2,\n",
    "        \"SurfaceOfPlot\": 4,\n",
    "        \"LivingArea\": 4,\n",
    "        \"GardenArea\": 4,\n",
    "        \"ToiletCount\": 2,\n",
    "    }\n",
    "\n",
    "    print(\"===============\")\n",
    "    for k, i in multi_dico.items():\n",
    "        df = remove_outliers(df, k, multiplier=i)\n",
    "    print(\"===============\")\n",
    "\n",
    "    return df\n",
    "\n",
    "print(\"select_features\")\n",
    "df = select_features(df)\n",
    "print(df.shape[0])"
   ]
  },
  {
   "cell_type": "code",
   "execution_count": 9,
   "metadata": {},
   "outputs": [
    {
     "name": "stdout",
     "output_type": "stream",
     "text": [
      "clean_nan\n"
     ]
    },
    {
     "name": "stderr",
     "output_type": "stream",
     "text": [
      "C:\\Users\\Atome\\AppData\\Local\\Temp\\ipykernel_13732\\3827733119.py:2: FutureWarning: A value is trying to be set on a copy of a DataFrame or Series through chained assignment using an inplace method.\n",
      "The behavior will change in pandas 3.0. This inplace method will never work because the intermediate object on which we are setting values always behaves as a copy.\n",
      "\n",
      "For example, when doing 'df[col].method(value, inplace=True)', try using 'df.method({col: value}, inplace=True)' or df[col] = df[col].method(value) instead, to perform the operation inplace on the original object.\n",
      "\n",
      "\n",
      "  df[\"SwimmingPool\"].fillna(0, inplace=True)\n",
      "C:\\Users\\Atome\\AppData\\Local\\Temp\\ipykernel_13732\\3827733119.py:3: FutureWarning: A value is trying to be set on a copy of a DataFrame or Series through chained assignment using an inplace method.\n",
      "The behavior will change in pandas 3.0. This inplace method will never work because the intermediate object on which we are setting values always behaves as a copy.\n",
      "\n",
      "For example, when doing 'df[col].method(value, inplace=True)', try using 'df.method({col: value}, inplace=True)' or df[col] = df[col].method(value) instead, to perform the operation inplace on the original object.\n",
      "\n",
      "\n",
      "  df[\"Terrace\"].fillna(0, inplace=True)\n",
      "C:\\Users\\Atome\\AppData\\Local\\Temp\\ipykernel_13732\\3827733119.py:4: FutureWarning: A value is trying to be set on a copy of a DataFrame or Series through chained assignment using an inplace method.\n",
      "The behavior will change in pandas 3.0. This inplace method will never work because the intermediate object on which we are setting values always behaves as a copy.\n",
      "\n",
      "For example, when doing 'df[col].method(value, inplace=True)', try using 'df.method({col: value}, inplace=True)' or df[col] = df[col].method(value) instead, to perform the operation inplace on the original object.\n",
      "\n",
      "\n",
      "  df[\"GardenArea\"].fillna(0, inplace=True)\n"
     ]
    },
    {
     "name": "stdout",
     "output_type": "stream",
     "text": [
      "95453\n",
      "         Price  PostalCode  BathroomCount  BedroomCount  ConstructionYear  \\\n",
      "2        99000        8380            1.0             1            1969.0   \n",
      "8       399000        8370            2.0             4            2008.0   \n",
      "10      230000        8660            1.0             4            1989.2   \n",
      "11      198000        3500            0.0             2            1972.0   \n",
      "14      215000        1030            1.0             1            1994.0   \n",
      "...        ...         ...            ...           ...               ...   \n",
      "181786  219000        3830            1.0             1            2017.0   \n",
      "181788  409000        9880            1.0             3            2024.0   \n",
      "181789  599000        2020            4.0             4            1955.2   \n",
      "181790  245000        2140            1.0             2            1983.2   \n",
      "181791  310000        8000            1.0             2            2017.2   \n",
      "\n",
      "        NumberOfFacades  PEB  SurfaceOfPlot  LivingArea  GardenArea  \\\n",
      "2                   2.4    8          111.0        29.0         0.0   \n",
      "8                   2.0    3            0.0       111.0         0.0   \n",
      "10                  2.0    7          170.0        62.2         1.0   \n",
      "11                  2.6    3          459.2        92.0         0.0   \n",
      "14                  2.0    6          445.4        50.0         0.0   \n",
      "...                 ...  ...            ...         ...         ...   \n",
      "181786              2.0    0          466.0        83.0         0.0   \n",
      "181788              2.4    8          234.0       129.0       168.0   \n",
      "181789              2.0    4          202.0       318.0         0.0   \n",
      "181790              4.0    5          156.8        85.0         0.0   \n",
      "181791              3.0    5          318.8       100.0         0.0   \n",
      "\n",
      "        StateOfBuilding  SwimmingPool  Terrace  ToiletCount  RoomCount  \\\n",
      "2                     1           0.0      1.0          1.0        1.0   \n",
      "8                     1           0.0      0.0          2.0        6.8   \n",
      "10                    4           0.0      1.0          2.0        8.0   \n",
      "11                    0           0.0      1.0          1.0        1.0   \n",
      "14                    0           0.0      1.0          1.0        2.8   \n",
      "...                 ...           ...      ...          ...        ...   \n",
      "181786                1           0.0      1.0          1.0        8.4   \n",
      "181788                1           0.0      0.0          0.0        4.0   \n",
      "181789                2           0.0      0.0          3.0       11.8   \n",
      "181790                1           0.0      1.0          1.0        4.4   \n",
      "181791                3           0.0      1.0          0.8        8.0   \n",
      "\n",
      "        LivingArea_per_Bedroom  GardenArea_per_Bedroom  PropertyAge  \\\n",
      "2                    14.500000               26.200000         55.0   \n",
      "8                    22.200000               12.813333         16.0   \n",
      "10                   26.400000                0.200000         34.8   \n",
      "11                   30.666667               25.266667         52.0   \n",
      "14                   25.000000               11.073333         30.0   \n",
      "...                        ...                     ...          ...   \n",
      "181786               41.500000               13.631667          7.0   \n",
      "181788               32.250000               42.000000          0.0   \n",
      "181789               63.600000                9.533333         68.8   \n",
      "181790               28.333333               14.800000         40.8   \n",
      "181791               33.333333               14.500000          6.8   \n",
      "\n",
      "        LivingArea_to_TotalArea  Bedroom_to_Facades  \n",
      "2                      1.084137            0.616667  \n",
      "8                    111.000000            1.333333  \n",
      "10                     0.767198            1.333333  \n",
      "11                     0.657607            0.576667  \n",
      "14                    24.341133            0.333333  \n",
      "...                         ...                 ...  \n",
      "181786                30.388784            0.333333  \n",
      "181788                 0.548936            0.900000  \n",
      "181789                 1.566502            1.333333  \n",
      "181790                21.770950            0.400000  \n",
      "181791                64.416758            0.460000  \n",
      "\n",
      "[95453 rows x 20 columns]\n",
      "DataFrame modifié enregistré sous '../data/cleaned_data.csv'\n"
     ]
    }
   ],
   "source": [
    "def clean_nan(df, n_neighbors=5):\n",
    "    df[\"SwimmingPool\"].fillna(0, inplace=True)\n",
    "    df[\"Terrace\"].fillna(0, inplace=True)\n",
    "    df[\"GardenArea\"].fillna(0, inplace=True)\n",
    "\n",
    "    label_encoders = {}\n",
    "    for column in df.select_dtypes(include=['object']).columns:\n",
    "        le = LabelEncoder()\n",
    "        df[column] = le.fit_transform(df[column].astype(str))\n",
    "        label_encoders[column] = le\n",
    "    \n",
    "    numeric_df = df.select_dtypes(include=['number'])\n",
    "    imputer = KNNImputer(n_neighbors=n_neighbors)\n",
    "    df_imputed = imputer.fit_transform(numeric_df)\n",
    "    numeric_df_imputed = pd.DataFrame(df_imputed, columns=numeric_df.columns, index=numeric_df.index)\n",
    "    df.update(numeric_df_imputed)\n",
    "    return df\n",
    "\n",
    "print(\"clean_nan\")\n",
    "df = clean_nan(df)\n",
    "print(df.shape[0])\n",
    "print(df)\n",
    "\n",
    "output_path = '../data/cleaned_data.csv'\n",
    "os.makedirs(os.path.dirname(output_path), exist_ok=True)\n",
    "df.to_csv(output_path, index=False)\n",
    "print(f\"DataFrame modifié enregistré sous '{output_path}'\")"
   ]
  },
  {
   "cell_type": "code",
   "execution_count": 10,
   "metadata": {},
   "outputs": [
    {
     "name": "stdout",
     "output_type": "stream",
     "text": [
      "Missing values percentage per column:\n",
      "Price                      0.0\n",
      "PostalCode                 0.0\n",
      "BathroomCount              0.0\n",
      "BedroomCount               0.0\n",
      "ConstructionYear           0.0\n",
      "NumberOfFacades            0.0\n",
      "PEB                        0.0\n",
      "SurfaceOfPlot              0.0\n",
      "LivingArea                 0.0\n",
      "GardenArea                 0.0\n",
      "StateOfBuilding            0.0\n",
      "SwimmingPool               0.0\n",
      "Terrace                    0.0\n",
      "ToiletCount                0.0\n",
      "RoomCount                  0.0\n",
      "LivingArea_per_Bedroom     0.0\n",
      "GardenArea_per_Bedroom     0.0\n",
      "PropertyAge                0.0\n",
      "LivingArea_to_TotalArea    0.0\n",
      "Bedroom_to_Facades         0.0\n",
      "dtype: float64\n",
      "95453\n"
     ]
    }
   ],
   "source": [
    "print(\"Missing values percentage per column:\")\n",
    "print(df.isnull().mean() * 100)\n",
    "print(df.shape[0])"
   ]
  },
  {
   "cell_type": "code",
   "execution_count": 13,
   "metadata": {},
   "outputs": [
    {
     "name": "stdout",
     "output_type": "stream",
     "text": [
      "Modèle existant chargé depuis ../data/models\\model_segment_1\\model.pkl.\n"
     ]
    },
    {
     "name": "stderr",
     "output_type": "stream",
     "text": [
      "c:\\Users\\Atome\\Desktop\\becode\\SynologyDrive\\Atomevenv\\lib\\site-packages\\numpy\\ma\\core.py:2846: RuntimeWarning: invalid value encountered in cast\n",
      "  _data = np.array(data, dtype=dtype, copy=copy,\n"
     ]
    },
    {
     "name": "stdout",
     "output_type": "stream",
     "text": [
      "Modèle sauvegardé dans ../data/models\\model_segment2.\n"
     ]
    }
   ],
   "source": [
    "df = load_file(\"../data/cleaned_data.csv\")\n",
    "\n",
    "def handle_categorical_data(df): \n",
    "    df = pd.get_dummies(df, drop_first=True)\n",
    "    return df\n",
    "\n",
    "y = df['Price']\n",
    "X = df.drop(columns=['Price'])\n",
    "X = handle_categorical_data(X)\n",
    "\n",
    "scaler = StandardScaler()\n",
    "X = scaler.fit_transform(X)\n",
    "\n",
    "X_train, X_test, y_train, y_test = train_test_split(X, y, test_size=0.2, random_state=69)\n",
    "\n",
    "def find_latest_model_path(base_dir):\n",
    "    segments = [d for d in os.listdir(base_dir) if os.path.isdir(os.path.join(base_dir, d))]\n",
    "    segments.sort(reverse=True) \n",
    "    for segment in segments:\n",
    "        model_path = os.path.join(base_dir, segment, 'model.pkl')\n",
    "        if os.path.exists(model_path):\n",
    "            return model_path\n",
    "    return None\n",
    "\n",
    "base_dir = \"../data/models\"\n",
    "\n",
    "latest_model_path = find_latest_model_path(base_dir)\n",
    "\n",
    "if latest_model_path:\n",
    "    model = joblib.load(latest_model_path)\n",
    "    print(f\"Modèle existant chargé depuis {latest_model_path}.\")\n",
    "else:\n",
    "    model = XGBRegressor(tree_method='hist', device='cuda', random_state=69, early_stopping_rounds=10)\n",
    "\n",
    "param_grid = {\n",
    "    'n_estimators': [100, 300, 500, 700, 900],\n",
    "    'learning_rate': [0.01, 0.03, 0.1, 0.15, 0.2],\n",
    "    'max_depth': [3, 5, 7, 10, 12],\n",
    "    'subsample': [0.5, 0.7, 0.9],\n",
    "    'colsample_bytree': [0.5, 0.7, 0.9],\n",
    "    'gamma': [0, 0.1, 0.2],\n",
    "    'min_child_weight': [1, 3, 5],\n",
    "    'reg_alpha': [0, 0.1, 0.5],\n",
    "    'reg_lambda': [0, 0.1, 0.5]\n",
    "}\n",
    "\n",
    "random_search = RandomizedSearchCV(\n",
    "    model, \n",
    "    param_distributions=param_grid, \n",
    "    n_iter=400, \n",
    "    cv=5, \n",
    "    scoring='neg_mean_absolute_error', \n",
    "    n_jobs=-1, \n",
    "    random_state=69\n",
    ")\n",
    "\n",
    "random_search.fit(X_train, y_train, eval_set=[(X_test, y_test)], verbose=False)\n",
    "\n",
    "best_model = random_search.best_estimator_\n",
    "\n",
    "new_segment_dir = os.path.join(base_dir, f\"model_segment_{len(os.listdir(base_dir)) + 1}\")\n",
    "os.makedirs(new_segment_dir, exist_ok=True)\n",
    "joblib.dump(best_model, os.path.join(new_segment_dir, 'model.pkl'))\n",
    "print(f\"Modèle sauvegardé dans {new_segment_dir}.\")\n",
    "info_path = os.path.join(new_segment_dir, 'info.txt')\n",
    "with open(info_path, 'w') as f:\n",
    "    f.write(f\"Model segment: {len(os.listdir(base_dir)) + 1}\\n\")\n",
    "    f.write(f\"Date: {datetime.datetime.now()}\\n\")\n",
    "    f.write(f\"Mean Absolute Error: {mean_absolute_error(y_test, model.predict(X_test)):.2f}\\n\")\n",
    "    f.write(f\"R2 Score: {r2_score(y_test, model.predict(X_test)):.2f}\\n\")\n",
    "    f.write(f\"Best Params: {model.get_params()}\\n\")\n",
    "print(f\"Informations du modèle enregistrées sous '{info_path}'\")\n"
   ]
  },
  {
   "cell_type": "code",
   "execution_count": 21,
   "metadata": {},
   "outputs": [
    {
     "name": "stdout",
     "output_type": "stream",
     "text": [
      "XGBoost Mean Absolute Error après continuation: 44186.14\n",
      "XGBoost Score après continuation: 0.87\n"
     ]
    }
   ],
   "source": [
    "y_pred = best_model.predict(X_test)\n",
    "mae = mean_absolute_error(y_test, y_pred)\n",
    "r2 = r2_score(y_test, y_pred)\n",
    "print(f\"XGBoost Mean Absolute Error après continuation: {mae:.2f}\")\n",
    "print(f\"XGBoost Score après continuation: {r2:.2f}\")"
   ]
  },
  {
   "cell_type": "code",
   "execution_count": 11,
   "metadata": {},
   "outputs": [
    {
     "name": "stderr",
     "output_type": "stream",
     "text": [
      "/home/atome/.venv/venvatome/lib/python3.11/site-packages/xgboost/core.py:158: UserWarning: [12:07:52] WARNING: /workspace/src/gbm/gbtree.cc:388: Changing updater from `grow_gpu_hist` to `grow_quantile_histmaker`.\n",
      "  warnings.warn(smsg, UserWarning)\n",
      "/home/atome/.venv/venvatome/lib/python3.11/site-packages/xgboost/core.py:158: UserWarning: [12:07:52] WARNING: /workspace/src/context.cc:43: No visible GPU is found, setting device to CPU.\n",
      "  warnings.warn(smsg, UserWarning)\n",
      "/home/atome/.venv/venvatome/lib/python3.11/site-packages/xgboost/core.py:158: UserWarning: [12:07:52] WARNING: /workspace/src/gbm/gbtree.cc:388: Changing updater from `grow_gpu_hist` to `grow_quantile_histmaker`.\n",
      "  warnings.warn(smsg, UserWarning)\n",
      "/home/atome/.venv/venvatome/lib/python3.11/site-packages/xgboost/core.py:158: UserWarning: [12:07:52] WARNING: /workspace/src/context.cc:43: No visible GPU is found, setting device to CPU.\n",
      "  warnings.warn(smsg, UserWarning)\n"
     ]
    },
    {
     "name": "stdout",
     "output_type": "stream",
     "text": [
      "Predicted Price for new input: 567198.56\n",
      "Mean Absolute Error: 16147.67\n",
      "R² Score: 0.97\n"
     ]
    }
   ],
   "source": [
    "def load_file(file_path):\n",
    "    return pd.read_csv(file_path)\n",
    "\n",
    "def handle_categorical_data(df):\n",
    "    return pd.get_dummies(df, drop_first=True)\n",
    "\n",
    "def prepare_data(input_data, scaler, categorical_columns):\n",
    "    df = pd.DataFrame([input_data])\n",
    "    df = handle_categorical_data(df)\n",
    "    \n",
    "    for col in categorical_columns:\n",
    "        if col not in df.columns:\n",
    "            df[col] = 0\n",
    "\n",
    "    df = df.reindex(columns=categorical_columns, fill_value=0)\n",
    "\n",
    "    return scaler.transform(df)\n",
    "\n",
    "def test_model(input_data, model_path, scaler, categorical_columns):\n",
    "    model = joblib.load(model_path)\n",
    "\n",
    "    X_test = prepare_data(input_data, scaler, categorical_columns)\n",
    "\n",
    "    y_pred = model.predict(X_test)\n",
    "\n",
    "    return y_pred\n",
    "\n",
    "input_data = {\n",
    "    \"PostalCode\": 4651,\n",
    "    \"BathroomCount\": 2,\n",
    "    \"BedroomCount\": 3,\n",
    "    \"ConstructionYear\": 2011,\n",
    "    \"NumberOfFacades\": 4,\n",
    "    \"PEB\": 'B',\n",
    "    \"SurfaceOfPlot\": 1044,\n",
    "    \"LivingArea\": 200,\n",
    "    \"GardenArea\": 948,\n",
    "    \"StateOfBuilding\": 'Excellent',\n",
    "    \"SwimmingPool\": 1,\n",
    "    \"Terrace\": 1,\n",
    "    \"ToiletCount\": 2,\n",
    "    \"RoomCount\": 13\n",
    "}\n",
    "\n",
    "df = load_file(\"../data/cleaned_data.csv\")\n",
    "X = df.drop(columns=['Price'])\n",
    "X = handle_categorical_data(X)\n",
    "categorical_columns = X.columns\n",
    "\n",
    "scaler = StandardScaler()\n",
    "X = scaler.fit_transform(X)\n",
    "\n",
    "model_path = \"../data/models/model_segment_3/model.pkl\"\n",
    "y_pred = test_model(input_data, model_path, scaler, categorical_columns)\n",
    "print(f\"Predicted Price: {y_pred[0]:.2f}\")\n"
   ]
  }
 ],
 "metadata": {
  "kernelspec": {
   "display_name": "Atomevenv",
   "language": "python",
   "name": "python3"
  },
  "language_info": {
   "codemirror_mode": {
    "name": "ipython",
    "version": 3
   },
   "file_extension": ".py",
   "mimetype": "text/x-python",
   "name": "python",
   "nbconvert_exporter": "python",
   "pygments_lexer": "ipython3",
   "version": "3.11.9"
  }
 },
 "nbformat": 4,
 "nbformat_minor": 2
}
